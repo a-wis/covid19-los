{
 "cells": [
  {
   "cell_type": "markdown",
   "metadata": {},
   "source": [
    "# Simulate a Hospital Surge / Wave\n",
    "\n",
    "This notebook simulates a single surge / wave of cases into a hospital, and outputs a line list in the format that would be output from a typical SQL query of PAS data.\n",
    "\n",
    "Start by Pulling in relevant libraries.\n"
   ]
  },
  {
   "cell_type": "code",
   "execution_count": 1,
   "metadata": {},
   "outputs": [],
   "source": [
    "%matplotlib inline\n",
    "import numpy as np\n",
    "import scipy as sp\n",
    "import scipy.stats as st\n",
    "import scipy.optimize as op\n",
    "from scipy import integrate\n",
    "import matplotlib.pyplot as plt\n",
    "import pandas as pd\n",
    "from datetime import datetime\n",
    "from datetime import timedelta"
   ]
  },
  {
   "cell_type": "markdown",
   "metadata": {},
   "source": [
    "## Parameters of Wave\n",
    "\n",
    "The next block of parameters determines the overall trajectory of the wave, which is assumed to be an exponentially increasing then decreasing function arising from growth then lockdown.\n"
   ]
  },
  {
   "cell_type": "code",
   "execution_count": 2,
   "metadata": {},
   "outputs": [
    {
     "data": {
      "image/png": "[encoded data removed]",
      "text/plain": [
       "<Figure size 288x216 with 1 Axes>"
      ]
     },
     "metadata": {
      "needs_background": "light"
     },
     "output_type": "display_data"
    }
   ],
   "source": [
    "rr = np.log(2.0)/3.0 # Initial growth rate\n",
    "rnew = -0.07 # Decline rate following successful lockdown\n",
    "dlock = 30 # Day of lockdown start\n",
    "dstop = 91 # Day of lockdown stop\n",
    "i0 = 0.07 # Initial value of force of infection - tuned to be like a wave in a large city\n",
    "mulock = i0*np.exp(rr*np.arange(0,dlock,1))\n",
    "mustop = mulock[-1]*np.exp(rnew*np.arange(0,dstop-dlock,1))\n",
    "mu = np.concatenate([mulock,mustop])\n",
    "dayran = np.arange(0,len(mu),1)\n",
    "plt.figure(figsize=(4,3))\n",
    "plt.plot(dayran,mu)\n",
    "plt.xlabel('Day of Epidemic')\n",
    "plt.ylabel('Expected New Cases')\n",
    "plt.xlim([0,90])\n",
    "plt.ylim([0,60])\n",
    "plt.tight_layout()"
   ]
  },
  {
   "cell_type": "markdown",
   "metadata": {},
   "source": [
    "## Weibull parameters\n",
    "\n",
    "Pick realistic (but not exactly fitted) values"
   ]
  },
  {
   "cell_type": "code",
   "execution_count": 3,
   "metadata": {},
   "outputs": [],
   "source": [
    "ward2icu = np.array([0.4,-9.5])\n",
    "ward2dis = np.array([0.9,-2.5])\n",
    "ward2dea = np.array([1.0,-3.5])\n",
    "icu2recw = np.array([1.5,-3.5])\n",
    "icu2dea  = np.array([1.0,-4.5])\n",
    "recw2icu = np.array([0.2,-8.0])\n",
    "recw2dis = np.array([1.5,-2.0])"
   ]
  },
  {
   "cell_type": "code",
   "execution_count": 4,
   "metadata": {},
   "outputs": [],
   "source": [
    "# start with a real day, then do just ward stay, then add ICU stay, and ignore covariates for now"
   ]
  },
  {
   "cell_type": "code",
   "execution_count": 5,
   "metadata": {},
   "outputs": [
    {
     "data": {
      "text/plain": [
       "'2020-05-31 00:00:01'"
      ]
     },
     "execution_count": 5,
     "metadata": {},
     "output_type": "execute_result"
    }
   ],
   "source": [
    "dt0 = datetime.fromisoformat('2020-03-01 00:00:01')\n",
    "dtend = dt0 + timedelta(days = dstop)\n",
    "dtend.isoformat(' ')"
   ]
  },
  {
   "cell_type": "code",
   "execution_count": 6,
   "metadata": {},
   "outputs": [],
   "source": [
    "def get_scale(x):\n",
    "    # Return a Weibull scale parameter from the neglog that is saved\n",
    "    return np.exp(-x)"
   ]
  },
  {
   "cell_type": "code",
   "execution_count": 7,
   "metadata": {},
   "outputs": [],
   "source": [
    "np.random.seed(42)\n",
    "\n",
    "df = pd.DataFrame(columns=[\n",
    "                     \"NHSNumber\",\n",
    "                     \"HospitalAdmissionTime\",\n",
    "                     \"StartTimeCriticalCare\",\n",
    "                     \"DischargeTimeCriticalCare\",\n",
    "                     \"HospitalDischargeTime\",\n",
    "                     \"DateOfDeath\",\n",
    "                     \"BRSDays\",\n",
    "                     \"ARSDays\",\n",
    "                     \"DateOfBirth\",\n",
    "                     \"Sex\"])\n",
    "\n",
    "nhsno = 0\n",
    "for d in dayran:\n",
    "    new_admissions = np.random.poisson(mu[d])\n",
    "    for i in range(0,new_admissions):\n",
    "        nhsno += 1\n",
    "        \n",
    "        age = 36500*np.random.random()\n",
    "        dob = (dtend - timedelta(days = age)).replace(microsecond=0)\n",
    "        \n",
    "        dtadm = dt0 + timedelta(days=int(d), seconds = int(np.floor(24*60*60*np.random.random())))\n",
    "        \n",
    "        distime = get_scale(ward2dis[1])*np.random.weibull(ward2dis[0])\n",
    "        disdat = (dtadm + timedelta(days = distime)).replace(microsecond=0)\n",
    "        deatime = get_scale(ward2dea[1])*np.random.weibull(ward2dea[0])\n",
    "        deadat = (dtadm + timedelta(days = deatime)).replace(microsecond=0)\n",
    "        icutime = get_scale(ward2icu[1])*np.random.weibull(ward2icu[0])\n",
    "        icudat = (dtadm + timedelta(days = icutime)).replace(microsecond=0)\n",
    "        \n",
    "        if ((disdat > dtend) and (deadat > dtend) and (icudat > dtend)): # Still in Acute Ward\n",
    "            df = df.append({\n",
    "                'NHSNumber': nhsno,\n",
    "                'HospitalAdmissionTime': dtadm.isoformat(' '),\n",
    "                'DateOfBirth': dob.isoformat(' '),\n",
    "                },ignore_index=True)\n",
    "        elif ((disdat < icudat) or (deadat < icudat)): # Does not go to ICU\n",
    "            if (disdat < deadat): # Discharged from Acute Ward\n",
    "                df = df.append({\n",
    "                    'NHSNumber': nhsno,\n",
    "                    'HospitalAdmissionTime': dtadm.isoformat(' '),\n",
    "                    'HospitalDischargeTime': disdat.isoformat(' '),\n",
    "                    'DateOfBirth': dob.isoformat(' '),\n",
    "                    },ignore_index=True)\n",
    "            else: # Died on Acute Ward\n",
    "                df = df.append({\n",
    "                    'NHSNumber': nhsno,\n",
    "                    'HospitalAdmissionTime': dtadm.isoformat(' '),\n",
    "                    'HospitalDischargeTime': deadat.isoformat(' '),\n",
    "                    'DateOfDeath': deadat.isoformat(' '),\n",
    "                    'DateOfBirth': dob.isoformat(' '),\n",
    "                    },ignore_index=True)\n",
    "        else: # Goes to ICU\n",
    "            runicu = True\n",
    "            ccentries = []\n",
    "            ccleaves = []\n",
    "            while runicu:\n",
    "                if (icudat > dtend): # Still in Recovery ward from previous loop\n",
    "                    runicu = False\n",
    "                    deadat = np.nan\n",
    "                    disdat = np.nan\n",
    "                else:\n",
    "                    ccentries.append(icudat)\n",
    "                    recwtime = get_scale(icu2recw[1])*np.random.weibull(icu2recw[0])\n",
    "                    recwdat = (icudat + timedelta(days = recwtime)).replace(microsecond=0)\n",
    "                    deatime  = get_scale(icu2dea[1])*np.random.weibull(icu2dea[0])\n",
    "                    deadat = (icudat + timedelta(days = deatime)).replace(microsecond=0)\n",
    "                    if (deadat > dtend) and (recwdat > dtend): # Still in ICU\n",
    "                        runicu = False\n",
    "                        deadat = np.nan\n",
    "                        disdat = np.nan\n",
    "                    elif (deadat < recwdat): # Died in ICU\n",
    "                        runicu = False\n",
    "                        disdat = np.nan\n",
    "                        ccleaves.append(deadat)\n",
    "                    else: # Go to Recovery Ward\n",
    "                        deadat = np.nan\n",
    "                        ccleaves.append(recwdat)\n",
    "                        icutime = get_scale(recw2icu[1])*np.random.weibull(recw2icu[0])\n",
    "                        icudat = (recwdat + timedelta(days = icutime)).replace(microsecond=0)\n",
    "                        distime = get_scale(recw2dis[1])*np.random.weibull(recw2dis[0])\n",
    "                        disdat = (recwdat + timedelta(days = distime)).replace(microsecond=0)\n",
    "                        if (icudat > dtend) and (disdat > dtend): # Still on Recovery\n",
    "                            runicu = False\n",
    "                            disdat = np.nan\n",
    "                        elif (disdat < icudat): # Discharged\n",
    "                            runicu = False\n",
    "                        else: # A further stay on ICU\n",
    "                            disdat = np.nan\n",
    "            \n",
    "            if pd.isna(disdat):\n",
    "                distr = np.nan\n",
    "            else:\n",
    "                distr = disdat.isoformat(' ')\n",
    "                           \n",
    "            if pd.isna(deadat):\n",
    "                deastr = np.nan\n",
    "            else:\n",
    "                deastr = deadat.isoformat(' ')\n",
    "                distr = deadat.isoformat(' ')\n",
    "            \n",
    "            for j, icud in enumerate(ccentries):\n",
    "                if ((j==(len(ccentries)-1)) and (j>=len(ccleaves))): # Last ICU entry and no leave\n",
    "                    dtcc = np.nan\n",
    "                else:\n",
    "                    dtcc = ccleaves[j]\n",
    "                df = df.append({\n",
    "                    'NHSNumber': nhsno,\n",
    "                    'HospitalAdmissionTime': dtadm.isoformat(' '),\n",
    "                    'HospitalDischargeTime': distr,\n",
    "                    'StartTimeCriticalCare': icud,\n",
    "                    'DischargeTimeCriticalCare': dtcc,\n",
    "                    'DateOfDeath': deastr,\n",
    "                    'DateOfBirth': dob.isoformat(' '),\n",
    "                    },ignore_index=True)"
   ]
  },
  {
   "cell_type": "code",
   "execution_count": 8,
   "metadata": {},
   "outputs": [],
   "source": [
    "df.to_csv('./data_files/Simulated_COVID.csv')"
   ]
  },
  {
   "cell_type": "code",
   "execution_count": null,
   "metadata": {},
   "outputs": [],
   "source": []
  }
 ],
 "metadata": {
  "kernelspec": {
   "display_name": "Python 3",
   "language": "python",
   "name": "python3"
  },
  "language_info": {
   "codemirror_mode": {
    "name": "ipython",
    "version": 3
   },
   "file_extension": ".py",
   "mimetype": "text/x-python",
   "name": "python",
   "nbconvert_exporter": "python",
   "pygments_lexer": "ipython3",
   "version": "3.7.6"
  }
 },
 "nbformat": 4,
 "nbformat_minor": 2
}
